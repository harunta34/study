{
 "cells": [
  {
   "cell_type": "code",
   "execution_count": 103,
   "metadata": {
    "collapsed": false
   },
   "outputs": [],
   "source": [
    "import pandas as pd\n",
    "import numpy as np\n",
    "from matplotlib import pyplot as plt\n",
    "from pandas.tools.plotting import scatter_matrix\n",
    "from sklearn import linear_model\n",
    "from sklearn import datasets\n",
    "from scipy import linalg as LA\n",
    "from pandas import DataFrame\n",
    "from mpl_toolkits.mplot3d import Axes3D\n",
    "clf = linear_model.LinearRegression()"
   ]
  },
  {
   "cell_type": "code",
   "execution_count": 152,
   "metadata": {
    "collapsed": false
   },
   "outputs": [],
   "source": [
    "df = pd.read_csv(\"data.csv\")\n",
    "df = df.drop(0)\n",
    "df = df.drop([\"date\",\"ave2\",\"ave3\",\"high2\",\"high3\",\"low2\",\"low3\",\"rain3\",\"rain4\"],axis=1)\n",
    "df.columns = [\"ave\",\"high\",\"low\",\"rain1\",\"rain2\"]"
   ]
  },
  {
   "cell_type": "code",
   "execution_count": 153,
   "metadata": {
    "collapsed": false
   },
   "outputs": [
    {
     "data": {
      "text/html": [
       "<div>\n",
       "<table border=\"1\" class=\"dataframe\">\n",
       "  <thead>\n",
       "    <tr style=\"text-align: right;\">\n",
       "      <th></th>\n",
       "      <th>ave</th>\n",
       "      <th>high</th>\n",
       "      <th>low</th>\n",
       "      <th>rain1</th>\n",
       "      <th>rain2</th>\n",
       "    </tr>\n",
       "  </thead>\n",
       "  <tbody>\n",
       "    <tr>\n",
       "      <th>1</th>\n",
       "      <td>7.4</td>\n",
       "      <td>13.3</td>\n",
       "      <td>2.6</td>\n",
       "      <td>0.0</td>\n",
       "      <td>0.0</td>\n",
       "    </tr>\n",
       "    <tr>\n",
       "      <th>2</th>\n",
       "      <td>7.6</td>\n",
       "      <td>13.1</td>\n",
       "      <td>2.0</td>\n",
       "      <td>0.0</td>\n",
       "      <td>0.0</td>\n",
       "    </tr>\n",
       "    <tr>\n",
       "      <th>3</th>\n",
       "      <td>8.6</td>\n",
       "      <td>12.3</td>\n",
       "      <td>4.9</td>\n",
       "      <td>0.0</td>\n",
       "      <td>0.0</td>\n",
       "    </tr>\n",
       "    <tr>\n",
       "      <th>4</th>\n",
       "      <td>6.9</td>\n",
       "      <td>12.2</td>\n",
       "      <td>2.7</td>\n",
       "      <td>0.0</td>\n",
       "      <td>0.0</td>\n",
       "    </tr>\n",
       "    <tr>\n",
       "      <th>5</th>\n",
       "      <td>5.8</td>\n",
       "      <td>9.8</td>\n",
       "      <td>2.8</td>\n",
       "      <td>0.0</td>\n",
       "      <td>1.0</td>\n",
       "    </tr>\n",
       "    <tr>\n",
       "      <th>6</th>\n",
       "      <td>4.9</td>\n",
       "      <td>9.5</td>\n",
       "      <td>1.8</td>\n",
       "      <td>0.0</td>\n",
       "      <td>1.0</td>\n",
       "    </tr>\n",
       "    <tr>\n",
       "      <th>7</th>\n",
       "      <td>5.4</td>\n",
       "      <td>11.5</td>\n",
       "      <td>0.1</td>\n",
       "      <td>0.0</td>\n",
       "      <td>1.0</td>\n",
       "    </tr>\n",
       "    <tr>\n",
       "      <th>8</th>\n",
       "      <td>4.4</td>\n",
       "      <td>6.1</td>\n",
       "      <td>3.0</td>\n",
       "      <td>13.5</td>\n",
       "      <td>0.0</td>\n",
       "    </tr>\n",
       "    <tr>\n",
       "      <th>9</th>\n",
       "      <td>8.1</td>\n",
       "      <td>14.0</td>\n",
       "      <td>4.6</td>\n",
       "      <td>0.0</td>\n",
       "      <td>0.0</td>\n",
       "    </tr>\n",
       "    <tr>\n",
       "      <th>10</th>\n",
       "      <td>7.4</td>\n",
       "      <td>12.0</td>\n",
       "      <td>3.6</td>\n",
       "      <td>0.0</td>\n",
       "      <td>0.0</td>\n",
       "    </tr>\n",
       "    <tr>\n",
       "      <th>11</th>\n",
       "      <td>4.9</td>\n",
       "      <td>8.3</td>\n",
       "      <td>3.3</td>\n",
       "      <td>0.0</td>\n",
       "      <td>0.0</td>\n",
       "    </tr>\n",
       "    <tr>\n",
       "      <th>12</th>\n",
       "      <td>5.2</td>\n",
       "      <td>7.7</td>\n",
       "      <td>2.7</td>\n",
       "      <td>0.0</td>\n",
       "      <td>0.0</td>\n",
       "    </tr>\n",
       "    <tr>\n",
       "      <th>13</th>\n",
       "      <td>4.4</td>\n",
       "      <td>9.9</td>\n",
       "      <td>1.1</td>\n",
       "      <td>0.0</td>\n",
       "      <td>0.0</td>\n",
       "    </tr>\n",
       "    <tr>\n",
       "      <th>14</th>\n",
       "      <td>0.2</td>\n",
       "      <td>2.9</td>\n",
       "      <td>-2.4</td>\n",
       "      <td>4.0</td>\n",
       "      <td>0.0</td>\n",
       "    </tr>\n",
       "    <tr>\n",
       "      <th>15</th>\n",
       "      <td>-0.4</td>\n",
       "      <td>3.0</td>\n",
       "      <td>-3.6</td>\n",
       "      <td>1.0</td>\n",
       "      <td>0.0</td>\n",
       "    </tr>\n",
       "    <tr>\n",
       "      <th>16</th>\n",
       "      <td>1.8</td>\n",
       "      <td>5.2</td>\n",
       "      <td>-0.6</td>\n",
       "      <td>0.5</td>\n",
       "      <td>0.0</td>\n",
       "    </tr>\n",
       "    <tr>\n",
       "      <th>17</th>\n",
       "      <td>3.4</td>\n",
       "      <td>9.0</td>\n",
       "      <td>-1.0</td>\n",
       "      <td>0.0</td>\n",
       "      <td>1.0</td>\n",
       "    </tr>\n",
       "    <tr>\n",
       "      <th>18</th>\n",
       "      <td>4.2</td>\n",
       "      <td>9.2</td>\n",
       "      <td>-1.4</td>\n",
       "      <td>0.0</td>\n",
       "      <td>1.0</td>\n",
       "    </tr>\n",
       "    <tr>\n",
       "      <th>19</th>\n",
       "      <td>5.8</td>\n",
       "      <td>10.6</td>\n",
       "      <td>1.8</td>\n",
       "      <td>0.0</td>\n",
       "      <td>0.0</td>\n",
       "    </tr>\n",
       "    <tr>\n",
       "      <th>20</th>\n",
       "      <td>3.9</td>\n",
       "      <td>8.8</td>\n",
       "      <td>0.2</td>\n",
       "      <td>0.0</td>\n",
       "      <td>0.0</td>\n",
       "    </tr>\n",
       "    <tr>\n",
       "      <th>21</th>\n",
       "      <td>4.6</td>\n",
       "      <td>8.6</td>\n",
       "      <td>1.7</td>\n",
       "      <td>1.0</td>\n",
       "      <td>0.0</td>\n",
       "    </tr>\n",
       "    <tr>\n",
       "      <th>22</th>\n",
       "      <td>4.0</td>\n",
       "      <td>11.5</td>\n",
       "      <td>-0.3</td>\n",
       "      <td>0.0</td>\n",
       "      <td>0.0</td>\n",
       "    </tr>\n",
       "    <tr>\n",
       "      <th>23</th>\n",
       "      <td>2.0</td>\n",
       "      <td>6.1</td>\n",
       "      <td>-0.4</td>\n",
       "      <td>0.0</td>\n",
       "      <td>0.0</td>\n",
       "    </tr>\n",
       "    <tr>\n",
       "      <th>24</th>\n",
       "      <td>1.0</td>\n",
       "      <td>5.1</td>\n",
       "      <td>-2.5</td>\n",
       "      <td>0.0</td>\n",
       "      <td>0.0</td>\n",
       "    </tr>\n",
       "    <tr>\n",
       "      <th>25</th>\n",
       "      <td>2.2</td>\n",
       "      <td>8.4</td>\n",
       "      <td>-2.5</td>\n",
       "      <td>0.0</td>\n",
       "      <td>1.0</td>\n",
       "    </tr>\n",
       "    <tr>\n",
       "      <th>26</th>\n",
       "      <td>3.5</td>\n",
       "      <td>10.1</td>\n",
       "      <td>-1.7</td>\n",
       "      <td>0.0</td>\n",
       "      <td>1.0</td>\n",
       "    </tr>\n",
       "    <tr>\n",
       "      <th>27</th>\n",
       "      <td>5.3</td>\n",
       "      <td>12.7</td>\n",
       "      <td>-0.3</td>\n",
       "      <td>0.0</td>\n",
       "      <td>0.0</td>\n",
       "    </tr>\n",
       "    <tr>\n",
       "      <th>28</th>\n",
       "      <td>6.5</td>\n",
       "      <td>12.9</td>\n",
       "      <td>1.3</td>\n",
       "      <td>0.0</td>\n",
       "      <td>1.0</td>\n",
       "    </tr>\n",
       "    <tr>\n",
       "      <th>29</th>\n",
       "      <td>6.8</td>\n",
       "      <td>13.0</td>\n",
       "      <td>0.9</td>\n",
       "      <td>3.5</td>\n",
       "      <td>0.0</td>\n",
       "    </tr>\n",
       "    <tr>\n",
       "      <th>30</th>\n",
       "      <td>7.5</td>\n",
       "      <td>13.3</td>\n",
       "      <td>4.8</td>\n",
       "      <td>1.0</td>\n",
       "      <td>0.0</td>\n",
       "    </tr>\n",
       "    <tr>\n",
       "      <th>31</th>\n",
       "      <td>4.1</td>\n",
       "      <td>8.5</td>\n",
       "      <td>1.3</td>\n",
       "      <td>0.0</td>\n",
       "      <td>1.0</td>\n",
       "    </tr>\n",
       "  </tbody>\n",
       "</table>\n",
       "</div>"
      ],
      "text/plain": [
       "    ave  high  low  rain1  rain2\n",
       "1   7.4  13.3  2.6    0.0    0.0\n",
       "2   7.6  13.1  2.0    0.0    0.0\n",
       "3   8.6  12.3  4.9    0.0    0.0\n",
       "4   6.9  12.2  2.7    0.0    0.0\n",
       "5   5.8   9.8  2.8    0.0    1.0\n",
       "6   4.9   9.5  1.8    0.0    1.0\n",
       "7   5.4  11.5  0.1    0.0    1.0\n",
       "8   4.4   6.1  3.0   13.5    0.0\n",
       "9   8.1  14.0  4.6    0.0    0.0\n",
       "10  7.4  12.0  3.6    0.0    0.0\n",
       "11  4.9   8.3  3.3    0.0    0.0\n",
       "12  5.2   7.7  2.7    0.0    0.0\n",
       "13  4.4   9.9  1.1    0.0    0.0\n",
       "14  0.2   2.9 -2.4    4.0    0.0\n",
       "15 -0.4   3.0 -3.6    1.0    0.0\n",
       "16  1.8   5.2 -0.6    0.5    0.0\n",
       "17  3.4   9.0 -1.0    0.0    1.0\n",
       "18  4.2   9.2 -1.4    0.0    1.0\n",
       "19  5.8  10.6  1.8    0.0    0.0\n",
       "20  3.9   8.8  0.2    0.0    0.0\n",
       "21  4.6   8.6  1.7    1.0    0.0\n",
       "22  4.0  11.5 -0.3    0.0    0.0\n",
       "23  2.0   6.1 -0.4    0.0    0.0\n",
       "24  1.0   5.1 -2.5    0.0    0.0\n",
       "25  2.2   8.4 -2.5    0.0    1.0\n",
       "26  3.5  10.1 -1.7    0.0    1.0\n",
       "27  5.3  12.7 -0.3    0.0    0.0\n",
       "28  6.5  12.9  1.3    0.0    1.0\n",
       "29  6.8  13.0  0.9    3.5    0.0\n",
       "30  7.5  13.3  4.8    1.0    0.0\n",
       "31  4.1   8.5  1.3    0.0    1.0"
      ]
     },
     "execution_count": 153,
     "metadata": {},
     "output_type": "execute_result"
    }
   ],
   "source": [
    "df"
   ]
  },
  {
   "cell_type": "code",
   "execution_count": 117,
   "metadata": {
    "collapsed": false
   },
   "outputs": [
    {
     "data": {
      "text/plain": [
       "<matplotlib.text.Text at 0x7f03d1043c88>"
      ]
     },
     "execution_count": 117,
     "metadata": {},
     "output_type": "execute_result"
    },
    {
     "data": {
      "image/png": "[encoded data removed]",
      "text/plain": [
       "<matplotlib.figure.Figure at 0x7f03d13e3908>"
      ]
     },
     "metadata": {},
     "output_type": "display_data"
    }
   ],
   "source": [
    "fig = plt.figure()\n",
    "ax = Axes3D(fig)\n",
    "\n",
    "ave = df[\"ave\"]\n",
    "high = df[\"high\"]\n",
    "low = df[\"low\"]\n",
    "ax.scatter3D(ave,high,low)\n",
    "ax.set_xlabel(\"ave\")\n",
    "ax.set_ylabel(\"high\")\n",
    "ax.set_zlabel(\"low\")"
   ]
  },
  {
   "cell_type": "code",
   "execution_count": 131,
   "metadata": {
    "collapsed": false,
    "scrolled": true
   },
   "outputs": [
    {
     "name": "stdout",
     "output_type": "stream",
     "text": [
      "\n",
      "-------------------------Summary of Regression Analysis-------------------------\n",
      "\n",
      "Formula: Y ~ <ave> + <high> + <low> + <intercept>\n",
      "\n",
      "Number of Observations:         31\n",
      "Number of Degrees of Freedom:   4\n",
      "\n",
      "R-squared:         0.2102\n",
      "Adj R-squared:     0.1225\n",
      "\n",
      "Rmse:              2.3845\n",
      "\n",
      "F-stat (3, 27):     2.3959, p-value:     0.0902\n",
      "\n",
      "Degrees of Freedom: model 3, resid 27\n",
      "\n",
      "-----------------------Summary of Estimated Coefficients------------------------\n",
      "      Variable       Coef    Std Err     t-stat    p-value    CI 2.5%   CI 97.5%\n",
      "--------------------------------------------------------------------------------\n",
      "           ave     0.9788     1.0296       0.95     0.3502    -1.0392     2.9967\n",
      "          high    -0.8842     0.5011      -1.76     0.0889    -1.8663     0.0979\n",
      "           low    -0.0563     0.5675      -0.10     0.9217    -1.1685     1.0559\n",
      "     intercept     4.7086     1.6423       2.87     0.0079     1.4897     7.9276\n",
      "---------------------------------End of Summary---------------------------------\n",
      "\n"
     ]
    },
    {
     "name": "stderr",
     "output_type": "stream",
     "text": [
      "/opt/conda/lib/python3.5/site-packages/IPython/core/interactiveshell.py:2881: FutureWarning: The pandas.stats.ols module is deprecated and will be removed in a future version. We refer to external packages like statsmodels, see some examples here: http://www.statsmodels.org/stable/regression.html\n",
      "  exec(code_obj, self.user_global_ns, self.user_ns)\n"
     ]
    }
   ],
   "source": [
    "model_ols = pd.ols(y = df[\"rain1\"],x = df.drop([\"rain1\"],axis = 1))\n",
    "print(model_ols)\n"
   ]
  },
  {
   "cell_type": "code",
   "execution_count": 164,
   "metadata": {
    "collapsed": false,
    "scrolled": true
   },
   "outputs": [
    {
     "name": "stdout",
     "output_type": "stream",
     "text": [
      "1     0.045350\n",
      "2     0.451707\n",
      "3     1.974613\n",
      "4     0.522956\n",
      "5     1.562758\n",
      "6     1.003412\n",
      "7    -0.179923\n",
      "8     3.452756\n",
      "9    -0.001011\n",
      "10    1.138523\n",
      "11    1.980027\n",
      "12    2.837937\n",
      "13    0.199750\n",
      "14    2.475293\n",
      "15    1.867153\n",
      "16    1.906361\n",
      "17    0.134950\n",
      "18    0.763629\n",
      "19    0.911681\n",
      "20    0.733634\n",
      "21    1.511186\n",
      "22   -1.527673\n",
      "23    1.295083\n",
      "24    1.318702\n",
      "25   -0.424626\n",
      "26   -0.700392\n",
      "27   -1.316319\n",
      "28   -0.408694\n",
      "29   -0.180974\n",
      "30    0.019414\n",
      "31    1.132738\n",
      "dtype: float64\n"
     ]
    }
   ],
   "source": [
    "print(model_ols.predict())"
   ]
  },
  {
   "cell_type": "code",
   "execution_count": 165,
   "metadata": {
    "collapsed": false
   },
   "outputs": [],
   "source": [
    "predict = pd.read_csv(\"predict.csv\")\n",
    "predict = predict.drop(0)\n",
    "predict = predict.drop(\"date\",axis=1)\n",
    "predict = predict.drop([\"ave2\",\"ave3\",\"high2\",\"high3\",\"low2\",\"low3\"],axis=1)\n",
    "#df.columns=[\"ave\",\"high\",\"low\"]"
   ]
  },
  {
   "cell_type": "code",
   "execution_count": 159,
   "metadata": {
    "collapsed": false
   },
   "outputs": [
    {
     "data": {
      "text/html": [
       "<div>\n",
       "<table border=\"1\" class=\"dataframe\">\n",
       "  <thead>\n",
       "    <tr style=\"text-align: right;\">\n",
       "      <th></th>\n",
       "      <th>ave1</th>\n",
       "      <th>high1</th>\n",
       "      <th>low1</th>\n",
       "    </tr>\n",
       "  </thead>\n",
       "  <tbody>\n",
       "    <tr>\n",
       "      <th>1</th>\n",
       "      <td>4.0</td>\n",
       "      <td>8.5</td>\n",
       "      <td>0.3</td>\n",
       "    </tr>\n",
       "    <tr>\n",
       "      <th>2</th>\n",
       "      <td>5.8</td>\n",
       "      <td>11.9</td>\n",
       "      <td>0.7</td>\n",
       "    </tr>\n",
       "    <tr>\n",
       "      <th>3</th>\n",
       "      <td>6.6</td>\n",
       "      <td>14.2</td>\n",
       "      <td>0.3</td>\n",
       "    </tr>\n",
       "    <tr>\n",
       "      <th>4</th>\n",
       "      <td>4.4</td>\n",
       "      <td>5.5</td>\n",
       "      <td>2.5</td>\n",
       "    </tr>\n",
       "    <tr>\n",
       "      <th>5</th>\n",
       "      <td>6.2</td>\n",
       "      <td>10.4</td>\n",
       "      <td>2.5</td>\n",
       "    </tr>\n",
       "    <tr>\n",
       "      <th>6</th>\n",
       "      <td>3.6</td>\n",
       "      <td>7.5</td>\n",
       "      <td>1.7</td>\n",
       "    </tr>\n",
       "    <tr>\n",
       "      <th>7</th>\n",
       "      <td>4.4</td>\n",
       "      <td>9.4</td>\n",
       "      <td>-0.3</td>\n",
       "    </tr>\n",
       "    <tr>\n",
       "      <th>8</th>\n",
       "      <td>3.2</td>\n",
       "      <td>4.5</td>\n",
       "      <td>1.9</td>\n",
       "    </tr>\n",
       "    <tr>\n",
       "      <th>9</th>\n",
       "      <td>3.6</td>\n",
       "      <td>8.7</td>\n",
       "      <td>0.8</td>\n",
       "    </tr>\n",
       "    <tr>\n",
       "      <th>10</th>\n",
       "      <td>1.1</td>\n",
       "      <td>4.3</td>\n",
       "      <td>-1.0</td>\n",
       "    </tr>\n",
       "    <tr>\n",
       "      <th>11</th>\n",
       "      <td>2.8</td>\n",
       "      <td>8.3</td>\n",
       "      <td>-0.6</td>\n",
       "    </tr>\n",
       "    <tr>\n",
       "      <th>12</th>\n",
       "      <td>3.4</td>\n",
       "      <td>10.2</td>\n",
       "      <td>-0.8</td>\n",
       "    </tr>\n",
       "    <tr>\n",
       "      <th>13</th>\n",
       "      <td>3.3</td>\n",
       "      <td>8.4</td>\n",
       "      <td>-0.8</td>\n",
       "    </tr>\n",
       "    <tr>\n",
       "      <th>14</th>\n",
       "      <td>4.7</td>\n",
       "      <td>11.0</td>\n",
       "      <td>-0.3</td>\n",
       "    </tr>\n",
       "    <tr>\n",
       "      <th>15</th>\n",
       "      <td>6.8</td>\n",
       "      <td>13.8</td>\n",
       "      <td>-0.4</td>\n",
       "    </tr>\n",
       "    <tr>\n",
       "      <th>16</th>\n",
       "      <td>7.1</td>\n",
       "      <td>9.1</td>\n",
       "      <td>4.6</td>\n",
       "    </tr>\n",
       "    <tr>\n",
       "      <th>17</th>\n",
       "      <td>7.2</td>\n",
       "      <td>12.3</td>\n",
       "      <td>3.3</td>\n",
       "    </tr>\n",
       "    <tr>\n",
       "      <th>18</th>\n",
       "      <td>5.7</td>\n",
       "      <td>10.8</td>\n",
       "      <td>1.7</td>\n",
       "    </tr>\n",
       "    <tr>\n",
       "      <th>19</th>\n",
       "      <td>6.6</td>\n",
       "      <td>11.9</td>\n",
       "      <td>4.2</td>\n",
       "    </tr>\n",
       "    <tr>\n",
       "      <th>20</th>\n",
       "      <td>3.7</td>\n",
       "      <td>7.5</td>\n",
       "      <td>1.3</td>\n",
       "    </tr>\n",
       "    <tr>\n",
       "      <th>21</th>\n",
       "      <td>5.8</td>\n",
       "      <td>12.2</td>\n",
       "      <td>-0.5</td>\n",
       "    </tr>\n",
       "    <tr>\n",
       "      <th>22</th>\n",
       "      <td>9.3</td>\n",
       "      <td>15.3</td>\n",
       "      <td>6.5</td>\n",
       "    </tr>\n",
       "    <tr>\n",
       "      <th>23</th>\n",
       "      <td>5.7</td>\n",
       "      <td>10.1</td>\n",
       "      <td>2.7</td>\n",
       "    </tr>\n",
       "    <tr>\n",
       "      <th>24</th>\n",
       "      <td>5.9</td>\n",
       "      <td>11.4</td>\n",
       "      <td>0.1</td>\n",
       "    </tr>\n",
       "    <tr>\n",
       "      <th>25</th>\n",
       "      <td>7.0</td>\n",
       "      <td>13.5</td>\n",
       "      <td>1.9</td>\n",
       "    </tr>\n",
       "    <tr>\n",
       "      <th>26</th>\n",
       "      <td>6.8</td>\n",
       "      <td>13.0</td>\n",
       "      <td>2.9</td>\n",
       "    </tr>\n",
       "    <tr>\n",
       "      <th>27</th>\n",
       "      <td>6.7</td>\n",
       "      <td>13.1</td>\n",
       "      <td>1.2</td>\n",
       "    </tr>\n",
       "  </tbody>\n",
       "</table>\n",
       "</div>"
      ],
      "text/plain": [
       "    ave1  high1  low1\n",
       "1    4.0    8.5   0.3\n",
       "2    5.8   11.9   0.7\n",
       "3    6.6   14.2   0.3\n",
       "4    4.4    5.5   2.5\n",
       "5    6.2   10.4   2.5\n",
       "6    3.6    7.5   1.7\n",
       "7    4.4    9.4  -0.3\n",
       "8    3.2    4.5   1.9\n",
       "9    3.6    8.7   0.8\n",
       "10   1.1    4.3  -1.0\n",
       "11   2.8    8.3  -0.6\n",
       "12   3.4   10.2  -0.8\n",
       "13   3.3    8.4  -0.8\n",
       "14   4.7   11.0  -0.3\n",
       "15   6.8   13.8  -0.4\n",
       "16   7.1    9.1   4.6\n",
       "17   7.2   12.3   3.3\n",
       "18   5.7   10.8   1.7\n",
       "19   6.6   11.9   4.2\n",
       "20   3.7    7.5   1.3\n",
       "21   5.8   12.2  -0.5\n",
       "22   9.3   15.3   6.5\n",
       "23   5.7   10.1   2.7\n",
       "24   5.9   11.4   0.1\n",
       "25   7.0   13.5   1.9\n",
       "26   6.8   13.0   2.9\n",
       "27   6.7   13.1   1.2"
      ]
     },
     "execution_count": 159,
     "metadata": {},
     "output_type": "execute_result"
    }
   ],
   "source": [
    "predict"
   ]
  },
  {
   "cell_type": "markdown",
   "metadata": {},
   "source": [
    "## 相関係数"
   ]
  },
  {
   "cell_type": "code",
   "execution_count": 53,
   "metadata": {
    "collapsed": false,
    "scrolled": true
   },
   "outputs": [
    {
     "data": {
      "text/html": [
       "<div>\n",
       "<table border=\"1\" class=\"dataframe\">\n",
       "  <thead>\n",
       "    <tr style=\"text-align: right;\">\n",
       "      <th></th>\n",
       "      <th>ave</th>\n",
       "      <th>high</th>\n",
       "      <th>low</th>\n",
       "      <th>rain1</th>\n",
       "      <th>rain2</th>\n",
       "      <th>high-low</th>\n",
       "    </tr>\n",
       "  </thead>\n",
       "  <tbody>\n",
       "    <tr>\n",
       "      <th>ave</th>\n",
       "      <td>1.000000</td>\n",
       "      <td>0.900155</td>\n",
       "      <td>0.856685</td>\n",
       "      <td>-0.112607</td>\n",
       "      <td>-0.087235</td>\n",
       "      <td>0.321683</td>\n",
       "    </tr>\n",
       "    <tr>\n",
       "      <th>high</th>\n",
       "      <td>0.900155</td>\n",
       "      <td>1.000000</td>\n",
       "      <td>0.600501</td>\n",
       "      <td>-0.294823</td>\n",
       "      <td>0.052056</td>\n",
       "      <td>0.679576</td>\n",
       "    </tr>\n",
       "    <tr>\n",
       "      <th>low</th>\n",
       "      <td>0.856685</td>\n",
       "      <td>0.600501</td>\n",
       "      <td>1.000000</td>\n",
       "      <td>0.071852</td>\n",
       "      <td>-0.257668</td>\n",
       "      <td>-0.178523</td>\n",
       "    </tr>\n",
       "    <tr>\n",
       "      <th>rain1</th>\n",
       "      <td>-0.112607</td>\n",
       "      <td>-0.294823</td>\n",
       "      <td>0.071852</td>\n",
       "      <td>1.000000</td>\n",
       "      <td>-0.201865</td>\n",
       "      <td>-0.428699</td>\n",
       "    </tr>\n",
       "    <tr>\n",
       "      <th>rain2</th>\n",
       "      <td>-0.087235</td>\n",
       "      <td>0.052056</td>\n",
       "      <td>-0.257668</td>\n",
       "      <td>-0.201865</td>\n",
       "      <td>1.000000</td>\n",
       "      <td>0.300449</td>\n",
       "    </tr>\n",
       "    <tr>\n",
       "      <th>high-low</th>\n",
       "      <td>0.321683</td>\n",
       "      <td>0.679576</td>\n",
       "      <td>-0.178523</td>\n",
       "      <td>-0.428699</td>\n",
       "      <td>0.300449</td>\n",
       "      <td>1.000000</td>\n",
       "    </tr>\n",
       "  </tbody>\n",
       "</table>\n",
       "</div>"
      ],
      "text/plain": [
       "               ave      high       low     rain1     rain2  high-low\n",
       "ave       1.000000  0.900155  0.856685 -0.112607 -0.087235  0.321683\n",
       "high      0.900155  1.000000  0.600501 -0.294823  0.052056  0.679576\n",
       "low       0.856685  0.600501  1.000000  0.071852 -0.257668 -0.178523\n",
       "rain1    -0.112607 -0.294823  0.071852  1.000000 -0.201865 -0.428699\n",
       "rain2    -0.087235  0.052056 -0.257668 -0.201865  1.000000  0.300449\n",
       "high-low  0.321683  0.679576 -0.178523 -0.428699  0.300449  1.000000"
      ]
     },
     "execution_count": 53,
     "metadata": {},
     "output_type": "execute_result"
    }
   ],
   "source": [
    "df.corr()"
   ]
  },
  {
   "cell_type": "markdown",
   "metadata": {},
   "source": [
    "## 基本統計量"
   ]
  },
  {
   "cell_type": "code",
   "execution_count": 36,
   "metadata": {
    "collapsed": false
   },
   "outputs": [
    {
     "data": {
      "text/html": [
       "<div>\n",
       "<table border=\"1\" class=\"dataframe\">\n",
       "  <thead>\n",
       "    <tr style=\"text-align: right;\">\n",
       "      <th></th>\n",
       "      <th>ave</th>\n",
       "      <th>high</th>\n",
       "      <th>low</th>\n",
       "      <th>rain1</th>\n",
       "      <th>rain2</th>\n",
       "    </tr>\n",
       "  </thead>\n",
       "  <tbody>\n",
       "    <tr>\n",
       "      <th>count</th>\n",
       "      <td>31.000000</td>\n",
       "      <td>31.000000</td>\n",
       "      <td>31.000000</td>\n",
       "      <td>31.000000</td>\n",
       "      <td>31.000000</td>\n",
       "    </tr>\n",
       "    <tr>\n",
       "      <th>mean</th>\n",
       "      <td>4.754839</td>\n",
       "      <td>9.632258</td>\n",
       "      <td>0.983871</td>\n",
       "      <td>0.790323</td>\n",
       "      <td>0.290323</td>\n",
       "    </tr>\n",
       "    <tr>\n",
       "      <th>std</th>\n",
       "      <td>2.313416</td>\n",
       "      <td>3.066528</td>\n",
       "      <td>2.286350</td>\n",
       "      <td>2.545500</td>\n",
       "      <td>0.461414</td>\n",
       "    </tr>\n",
       "    <tr>\n",
       "      <th>min</th>\n",
       "      <td>-0.400000</td>\n",
       "      <td>2.900000</td>\n",
       "      <td>-3.600000</td>\n",
       "      <td>0.000000</td>\n",
       "      <td>0.000000</td>\n",
       "    </tr>\n",
       "    <tr>\n",
       "      <th>25%</th>\n",
       "      <td>3.700000</td>\n",
       "      <td>8.350000</td>\n",
       "      <td>-0.500000</td>\n",
       "      <td>0.000000</td>\n",
       "      <td>0.000000</td>\n",
       "    </tr>\n",
       "    <tr>\n",
       "      <th>50%</th>\n",
       "      <td>4.900000</td>\n",
       "      <td>9.800000</td>\n",
       "      <td>1.300000</td>\n",
       "      <td>0.000000</td>\n",
       "      <td>0.000000</td>\n",
       "    </tr>\n",
       "    <tr>\n",
       "      <th>75%</th>\n",
       "      <td>6.650000</td>\n",
       "      <td>12.250000</td>\n",
       "      <td>2.700000</td>\n",
       "      <td>0.000000</td>\n",
       "      <td>1.000000</td>\n",
       "    </tr>\n",
       "    <tr>\n",
       "      <th>max</th>\n",
       "      <td>8.600000</td>\n",
       "      <td>14.000000</td>\n",
       "      <td>4.900000</td>\n",
       "      <td>13.500000</td>\n",
       "      <td>1.000000</td>\n",
       "    </tr>\n",
       "  </tbody>\n",
       "</table>\n",
       "</div>"
      ],
      "text/plain": [
       "             ave       high        low      rain1      rain2\n",
       "count  31.000000  31.000000  31.000000  31.000000  31.000000\n",
       "mean    4.754839   9.632258   0.983871   0.790323   0.290323\n",
       "std     2.313416   3.066528   2.286350   2.545500   0.461414\n",
       "min    -0.400000   2.900000  -3.600000   0.000000   0.000000\n",
       "25%     3.700000   8.350000  -0.500000   0.000000   0.000000\n",
       "50%     4.900000   9.800000   1.300000   0.000000   0.000000\n",
       "75%     6.650000  12.250000   2.700000   0.000000   1.000000\n",
       "max     8.600000  14.000000   4.900000  13.500000   1.000000"
      ]
     },
     "execution_count": 36,
     "metadata": {},
     "output_type": "execute_result"
    }
   ],
   "source": [
    "df.describe()"
   ]
  },
  {
   "cell_type": "code",
   "execution_count": 56,
   "metadata": {
    "collapsed": false
   },
   "outputs": [
    {
     "data": {
      "text/plain": [
       "array([[<matplotlib.axes._subplots.AxesSubplot object at 0x7f03dd287128>,\n",
       "        <matplotlib.axes._subplots.AxesSubplot object at 0x7f03dced2080>,\n",
       "        <matplotlib.axes._subplots.AxesSubplot object at 0x7f03dce8c320>,\n",
       "        <matplotlib.axes._subplots.AxesSubplot object at 0x7f03dce3aa20>,\n",
       "        <matplotlib.axes._subplots.AxesSubplot object at 0x7f03dce06630>,\n",
       "        <matplotlib.axes._subplots.AxesSubplot object at 0x7f03dcdc5470>],\n",
       "       [<matplotlib.axes._subplots.AxesSubplot object at 0x7f03dcd8c588>,\n",
       "        <matplotlib.axes._subplots.AxesSubplot object at 0x7f03dcd4e2b0>,\n",
       "        <matplotlib.axes._subplots.AxesSubplot object at 0x7f03dcd174e0>,\n",
       "        <matplotlib.axes._subplots.AxesSubplot object at 0x7f03dcc609b0>,\n",
       "        <matplotlib.axes._subplots.AxesSubplot object at 0x7f03dcc21048>,\n",
       "        <matplotlib.axes._subplots.AxesSubplot object at 0x7f03dcbeab00>],\n",
       "       [<matplotlib.axes._subplots.AxesSubplot object at 0x7f03dcbac160>,\n",
       "        <matplotlib.axes._subplots.AxesSubplot object at 0x7f03dcb74d30>,\n",
       "        <matplotlib.axes._subplots.AxesSubplot object at 0x7f03dcb30d68>,\n",
       "        <matplotlib.axes._subplots.AxesSubplot object at 0x7f03dcafbcc0>,\n",
       "        <matplotlib.axes._subplots.AxesSubplot object at 0x7f03dcab6ba8>,\n",
       "        <matplotlib.axes._subplots.AxesSubplot object at 0x7f03dca85dd8>],\n",
       "       [<matplotlib.axes._subplots.AxesSubplot object at 0x7f03dca54208>,\n",
       "        <matplotlib.axes._subplots.AxesSubplot object at 0x7f03dca10940>,\n",
       "        <matplotlib.axes._subplots.AxesSubplot object at 0x7f03dc95e358>,\n",
       "        <matplotlib.axes._subplots.AxesSubplot object at 0x7f03dd2f4710>,\n",
       "        <matplotlib.axes._subplots.AxesSubplot object at 0x7f03dc934470>,\n",
       "        <matplotlib.axes._subplots.AxesSubplot object at 0x7f03dc8efe48>],\n",
       "       [<matplotlib.axes._subplots.AxesSubplot object at 0x7f03dc8b7f60>,\n",
       "        <matplotlib.axes._subplots.AxesSubplot object at 0x7f03dc85bcc0>,\n",
       "        <matplotlib.axes._subplots.AxesSubplot object at 0x7f03dc840eb8>,\n",
       "        <matplotlib.axes._subplots.AxesSubplot object at 0x7f03dc8112e8>,\n",
       "        <matplotlib.axes._subplots.AxesSubplot object at 0x7f03dc7cd940>,\n",
       "        <matplotlib.axes._subplots.AxesSubplot object at 0x7f03dc71e080>],\n",
       "       [<matplotlib.axes._subplots.AxesSubplot object at 0x7f03dc758748>,\n",
       "        <matplotlib.axes._subplots.AxesSubplot object at 0x7f03dc6a1898>,\n",
       "        <matplotlib.axes._subplots.AxesSubplot object at 0x7f03dc662588>,\n",
       "        <matplotlib.axes._subplots.AxesSubplot object at 0x7f03dc62b7b8>,\n",
       "        <matplotlib.axes._subplots.AxesSubplot object at 0x7f03dc5f5ba8>,\n",
       "        <matplotlib.axes._subplots.AxesSubplot object at 0x7f03dc5b7320>]], dtype=object)"
      ]
     },
     "execution_count": 56,
     "metadata": {},
     "output_type": "execute_result"
    },
    {
     "data": {
      "image/png": "[encoded data removed]",
      "text/plain": [
       "<matplotlib.figure.Figure at 0x7f03ddc97f60>"
      ]
     },
     "metadata": {},
     "output_type": "display_data"
    }
   ],
   "source": [
    "plt.figure()\n",
    "scatter_matrix(df)"
   ]
  },
  {
   "cell_type": "code",
   "execution_count": null,
   "metadata": {
    "collapsed": true
   },
   "outputs": [],
   "source": []
  },
  {
   "cell_type": "code",
   "execution_count": 65,
   "metadata": {
    "collapsed": false
   },
   "outputs": [],
   "source": [
    "s = pd.Series([1,2,3],index=[\"a\",\"b\",\"c\"])"
   ]
  },
  {
   "cell_type": "code",
   "execution_count": 66,
   "metadata": {
    "collapsed": false
   },
   "outputs": [
    {
     "data": {
      "text/plain": [
       "3"
      ]
     },
     "execution_count": 66,
     "metadata": {},
     "output_type": "execute_result"
    }
   ],
   "source": [
    "s.max()"
   ]
  },
  {
   "cell_type": "code",
   "execution_count": 69,
   "metadata": {
    "collapsed": false
   },
   "outputs": [
    {
     "data": {
      "text/plain": [
       "2.0"
      ]
     },
     "execution_count": 69,
     "metadata": {},
     "output_type": "execute_result"
    }
   ],
   "source": [
    "s.mean()"
   ]
  },
  {
   "cell_type": "code",
   "execution_count": 71,
   "metadata": {
    "collapsed": false
   },
   "outputs": [
    {
     "data": {
      "text/plain": [
       "a    3\n",
       "b    6\n",
       "c    9\n",
       "dtype: int64"
      ]
     },
     "execution_count": 71,
     "metadata": {},
     "output_type": "execute_result"
    }
   ],
   "source": [
    "s.apply(lambda x: x*3)"
   ]
  },
  {
   "cell_type": "code",
   "execution_count": 72,
   "metadata": {
    "collapsed": false
   },
   "outputs": [
    {
     "data": {
      "text/plain": [
       "'{\"a\":1,\"b\":2,\"c\":3}'"
      ]
     },
     "execution_count": 72,
     "metadata": {},
     "output_type": "execute_result"
    }
   ],
   "source": [
    "s.to_json()"
   ]
  },
  {
   "cell_type": "code",
   "execution_count": 74,
   "metadata": {
    "collapsed": false
   },
   "outputs": [
    {
     "data": {
      "text/plain": [
       "{'a': 1, 'b': 2, 'c': 3}"
      ]
     },
     "execution_count": 74,
     "metadata": {},
     "output_type": "execute_result"
    }
   ],
   "source": [
    "s.to_dict()"
   ]
  },
  {
   "cell_type": "code",
   "execution_count": null,
   "metadata": {
    "collapsed": true
   },
   "outputs": [],
   "source": []
  }
 ],
 "metadata": {
  "kernelspec": {
   "display_name": "Python 3",
   "language": "python",
   "name": "python3"
  },
  "language_info": {
   "codemirror_mode": {
    "name": "ipython",
    "version": 3
   },
   "file_extension": ".py",
   "mimetype": "text/x-python",
   "name": "python",
   "nbconvert_exporter": "python",
   "pygments_lexer": "ipython3",
   "version": "3.5.2"
  }
 },
 "nbformat": 4,
 "nbformat_minor": 2
}
